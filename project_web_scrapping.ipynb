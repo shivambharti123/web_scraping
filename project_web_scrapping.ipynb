{
 "cells": [
  {
   "cell_type": "code",
   "execution_count": null,
   "id": "b0c874c7",
   "metadata": {},
   "outputs": [],
   "source": [
    "def web_scrap():"
   ]
  },
  {
   "cell_type": "code",
   "execution_count": 24,
   "id": "c184f765",
   "metadata": {},
   "outputs": [],
   "source": [
    "\n",
    "\n",
    "start_url='https://www.timesjobs.com/candidate/job-search.html?from=submit&searchType=Home_Search&luceneResultSize=25&postWeek=60&cboPresFuncArea=35&pDate=Y&sequence='\n",
    "end_url='&startPage=1'\n",
    "\n",
    "        #this  is url and i will be seperate in 2 parts because i want only 1000 records"
   ]
  },
  {
   "cell_type": "code",
   "execution_count": 4,
   "id": "c159d621",
   "metadata": {},
   "outputs": [],
   "source": [
    "all_urls=[]\n",
    "\n",
    "for val in range(1,41):\n",
    "    all_urls.append(start_url+str(val)+end_url)\n",
    "    \n",
    "    # fetch 40 links of 40 pages, 1 page  has 25 jobs i.e.(40*25=1000) as required.\n",
    "    \n",
    "    "
   ]
  },
  {
   "cell_type": "code",
   "execution_count": 18,
   "id": "67aebe63",
   "metadata": {},
   "outputs": [],
   "source": [
    "import requests\n",
    "\n",
    "        #import request library is used to extract data from\n",
    "    \n",
    "from bs4 import BeautifulSoup\n",
    "\n",
    "        #import beautifulsoup library to HTML code for python\n",
    "    "
   ]
  },
  {
   "cell_type": "code",
   "execution_count": 22,
   "id": "801868b1",
   "metadata": {},
   "outputs": [],
   "source": [
    "fetch_all_data=[]    #create empty list for store dictionary data\n",
    "\n",
    "for url in all_urls:\n",
    "    all_source_data=requests.get(url).text    #fetch data from website\n",
    "    all_soup_data=BeautifulSoup(all_source_data,'lxml')      #converted data in beautifulsoup\n",
    "    all_page_data=all_soup_data.find_all('li',class_=('clearfix job-bx wht-shd-bx'))    #all job detail using tags of html\n",
    "    \n",
    "    for val in all_page_data:\n",
    "        \n",
    "        # need only 7 types of details\n",
    "        \n",
    "        job_name=val.find('h2').text        #fetch job title\n",
    "        jobname=job_name.lstrip()         #fetch all 1000 job titles.\n",
    "        \n",
    "        compony_name=val.find('h3',class_='joblist-comp-name').text         #fetch compony name\n",
    "        componyname=compony_name.lstrip().split()[0]                   #fetch all compony name\n",
    "        \n",
    "        experience=val.find('li').text                   #fetch experience\n",
    "        experience1=experience.replace('card_travel','')       #fetch all experience\n",
    "        \n",
    "        location=val.find('span').text             #fetch location\n",
    "        location1=location.lstrip()                 #fetch all location\n",
    "        \n",
    "        job_description=val.find('ul',class_='list-job-dtl clearfix').text           #fetch job description\n",
    "        jobdescription=job_description.splitlines()[3:4]                             #fetch all job description\n",
    "        jobdescription=','.join(jobdescription)\n",
    "        \n",
    "        key_skill=val.find('span',class_='srp-skills').text                 #fetch key skill\n",
    "        keyskill=key_skill.lstrip().splitlines()[0:1]                     #fetch all key skill\n",
    "        keyskill=(','.join(keyskill))\n",
    "        \n",
    "        job_link=val.find('a')['href']           #fetch all job details\n",
    "        \n",
    "        dict_data={\n",
    "            'Job Name': job_name,\n",
    "            'Compony Name': componyname,\n",
    "            'Experience': experience1,\n",
    "            'Location': location1,\n",
    "            'Job Description': jobdescription,\n",
    "            'Key Skill': keyskill,\n",
    "            'Job Detail Link': job_link            \n",
    "        }\n",
    "        \n",
    "        fetch_all_data.append(dict_data)            #all list of data.\n",
    "        \n",
    "    import pandas as pd           #import pandas library to convert data in excel-sheet\n",
    "    df1=pd.DataFrame(fetch_all_data)\n",
    "    \n",
    "    df1.to_excel('timesjobs_scrap_data.xlsx')      #export 1000 jobs details into excel-sheet\n",
    "    \n",
    "    \n",
    "web_scrap()"
   ]
  },
  {
   "cell_type": "code",
   "execution_count": 23,
   "id": "a3051f22",
   "metadata": {},
   "outputs": [
    {
     "data": {
      "text/plain": [
       "'C:\\\\Users\\\\Shivam'"
      ]
     },
     "execution_count": 23,
     "metadata": {},
     "output_type": "execute_result"
    }
   ],
   "source": [
    "pwd\n"
   ]
  },
  {
   "cell_type": "code",
   "execution_count": null,
   "id": "6ce7833c",
   "metadata": {},
   "outputs": [],
   "source": []
  }
 ],
 "metadata": {
  "kernelspec": {
   "display_name": "Python 3 (ipykernel)",
   "language": "python",
   "name": "python3"
  },
  "language_info": {
   "codemirror_mode": {
    "name": "ipython",
    "version": 3
   },
   "file_extension": ".py",
   "mimetype": "text/x-python",
   "name": "python",
   "nbconvert_exporter": "python",
   "pygments_lexer": "ipython3",
   "version": "3.10.5"
  }
 },
 "nbformat": 4,
 "nbformat_minor": 5
}
